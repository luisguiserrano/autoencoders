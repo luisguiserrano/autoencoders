{
 "cells": [
  {
   "cell_type": "code",
   "execution_count": 2,
   "metadata": {},
   "outputs": [],
   "source": [
    "'''This code contains the implementation of simple VAE\n",
    "Refer to the blog post here: https://graviraja.github.io/vanillavae/\n",
    "\n",
    "This is a modified version of the above code to generate diagonals.\n",
    "'''\n",
    "import torch\n",
    "import torch.nn as nn\n",
    "import torch.nn.functional as F\n",
    "import torch.optim as optim\n",
    "\n",
    "from torch.utils.data import DataLoader\n",
    "from torchvision import datasets, transforms\n",
    "\n",
    "import matplotlib.pyplot as plt\n",
    "\n",
    "import numpy as np\n",
    "\n",
    "device = torch.device('cuda' if torch.cuda.is_available() else 'cpu')"
   ]
  },
  {
   "cell_type": "code",
   "execution_count": 3,
   "metadata": {},
   "outputs": [],
   "source": [
    "# Dimensions of bars and stripes\n",
    "m = 2\n",
    "n = 2\n",
    "\n",
    "BATCH_SIZE = 64         # number of data points in each batch\n",
    "N_EPOCHS = 10000           # times to run the model on complete data\n",
    "INPUT_DIM = m*n     # size of each input\n",
    "HIDDEN_DIM = 16        # hidden dimension\n",
    "LATENT_DIM = 2#8         # latent vector dimension\n",
    "lr = 1e-3               # learning rate"
   ]
  },
  {
   "cell_type": "code",
   "execution_count": 4,
   "metadata": {},
   "outputs": [
    {
     "data": {
      "text/plain": [
       "torch.Size([6, 1, 2, 2])"
      ]
     },
     "execution_count": 4,
     "metadata": {},
     "output_type": "execute_result"
    }
   ],
   "source": [
    "import itertools\n",
    "def bars_and_stripes(rows, cols):\n",
    "    \n",
    "    data = [] \n",
    "    \n",
    "    for h in itertools.product([0,1], repeat=cols):\n",
    "        pic = np.repeat([h], rows, 0)\n",
    "        data.append(pic.ravel().tolist())\n",
    "          \n",
    "    for h in itertools.product([0,1], repeat=rows):\n",
    "        pic = np.repeat([h], cols, 1)\n",
    "        data.append(pic.ravel().tolist())\n",
    "    \n",
    "    data = np.unique(np.asarray(data), axis=0)\n",
    "    \n",
    "    return data\n",
    "\n",
    "bas = np.array(bars_and_stripes(m,n)).astype(np.float32).reshape(-1, 1, m, n)\n",
    "train_dataset = torch.from_numpy(bas)\n",
    "train_dataset.shape"
   ]
  },
  {
   "cell_type": "code",
   "execution_count": 6,
   "metadata": {},
   "outputs": [
    {
     "data": {
      "text/plain": [
       "torch.Size([2, 1, 2, 2])"
      ]
     },
     "execution_count": 6,
     "metadata": {},
     "output_type": "execute_result"
    }
   ],
   "source": [
    "diagonals = [\n",
    "    np.array([1,0,0,1]),\n",
    "    np.array([0,1,1,0]),\n",
    "]\n",
    "\n",
    "diags = np.array(diagonals).astype(np.float32).reshape(-1, 1, 2,2)\n",
    "train_dataset = torch.from_numpy(diags)\n",
    "train_dataset.shape"
   ]
  },
  {
   "cell_type": "code",
   "execution_count": 7,
   "metadata": {},
   "outputs": [],
   "source": [
    "class Encoder(nn.Module):\n",
    "    ''' This the encoder part of VAE\n",
    "    '''\n",
    "    def __init__(self, input_dim, hidden_dim, z_dim):\n",
    "        '''\n",
    "        Args:\n",
    "            input_dim: A integer indicating the size of input (in case of MNIST 28 * 28).\n",
    "            hidden_dim: A integer indicating the size of hidden dimension.\n",
    "            z_dim: A integer indicating the latent dimension.\n",
    "        '''\n",
    "        super().__init__()\n",
    "\n",
    "        self.linear = nn.Linear(input_dim, hidden_dim)\n",
    "        self.mu = nn.Linear(hidden_dim, z_dim)\n",
    "        self.var = nn.Linear(hidden_dim, z_dim)\n",
    "\n",
    "    def forward(self, x):\n",
    "        # x is of shape [batch_size, input_dim]\n",
    "\n",
    "        hidden = F.relu(self.linear(x))\n",
    "        # hidden is of shape [batch_size, hidden_dim]\n",
    "        z_mu = self.mu(hidden)\n",
    "        # z_mu is of shape [batch_size, latent_dim]\n",
    "        z_var = self.var(hidden)\n",
    "        # z_var is of shape [batch_size, latent_dim]\n",
    "\n",
    "        return z_mu, z_var"
   ]
  },
  {
   "cell_type": "code",
   "execution_count": 8,
   "metadata": {},
   "outputs": [],
   "source": [
    "class Decoder(nn.Module):\n",
    "    ''' This the decoder part of VAE\n",
    "    '''\n",
    "    def __init__(self, z_dim, hidden_dim, output_dim):\n",
    "        '''\n",
    "        Args:\n",
    "            z_dim: A integer indicating the latent size.\n",
    "            hidden_dim: A integer indicating the size of hidden dimension.\n",
    "            output_dim: A integer indicating the output dimension (in case of MNIST it is 28 * 28)\n",
    "        '''\n",
    "        super().__init__()\n",
    "\n",
    "        self.linear = nn.Linear(z_dim, hidden_dim)\n",
    "        self.out = nn.Linear(hidden_dim, output_dim)\n",
    "\n",
    "    def forward(self, x):\n",
    "        # x is of shape [batch_size, latent_dim]\n",
    "\n",
    "        hidden = F.relu(self.linear(x))\n",
    "        # hidden is of shape [batch_size, hidden_dim]\n",
    "\n",
    "        predicted = torch.sigmoid(self.out(hidden))\n",
    "        # predicted is of shape [batch_size, output_dim]\n",
    "        return predicted"
   ]
  },
  {
   "cell_type": "code",
   "execution_count": 9,
   "metadata": {},
   "outputs": [],
   "source": [
    "class VAE(nn.Module):\n",
    "    def __init__(self, enc, dec):\n",
    "        ''' This the VAE, which takes a encoder and decoder.\n",
    "        '''\n",
    "        super().__init__()\n",
    "\n",
    "        self.enc = enc\n",
    "        self.dec = dec\n",
    "\n",
    "    def forward(self, x):\n",
    "        # encode\n",
    "        z_mu, z_var = self.enc(x)\n",
    "\n",
    "        # sample from the distribution having latent parameters z_mu, z_var\n",
    "        # reparameterize\n",
    "        std = torch.exp(z_var / 2)\n",
    "        eps = torch.randn_like(std)\n",
    "        x_sample = eps.mul(std).add_(z_mu)\n",
    "\n",
    "        # decode\n",
    "        predicted = self.dec(x_sample)\n",
    "        return predicted, z_mu, z_var"
   ]
  },
  {
   "cell_type": "code",
   "execution_count": 10,
   "metadata": {},
   "outputs": [],
   "source": [
    "# encoder\n",
    "encoder = Encoder(INPUT_DIM, HIDDEN_DIM, LATENT_DIM)\n",
    "\n",
    "# decoder\n",
    "decoder = Decoder(LATENT_DIM, HIDDEN_DIM, INPUT_DIM)\n",
    "\n",
    "# vae\n",
    "model = VAE(encoder, decoder).to(device)\n",
    "\n",
    "# optimizer\n",
    "optimizer = optim.Adam(model.parameters(), lr=lr)"
   ]
  },
  {
   "cell_type": "code",
   "execution_count": 11,
   "metadata": {},
   "outputs": [],
   "source": [
    "def train():\n",
    "    # set the train mode\n",
    "    model.train()\n",
    "\n",
    "    # loss of the epoch\n",
    "    train_loss = 0\n",
    "\n",
    "    for x in train_dataset:\n",
    "        # reshape the data into [batch_size, 784]\n",
    "        x = x.view(-1, m*n)\n",
    "        x = x.to(device)\n",
    "\n",
    "        # update the gradients to zero\n",
    "        optimizer.zero_grad()\n",
    "\n",
    "        # forward pass\n",
    "        x_sample, z_mu, z_var = model(x)\n",
    "\n",
    "        # reconstruction loss\n",
    "        recon_loss = F.binary_cross_entropy(x_sample, x, size_average=False)\n",
    "\n",
    "        # kl divergence loss\n",
    "        kl_loss = 0.5 * torch.sum(torch.exp(z_var) + z_mu**2 - 1.0 - z_var)\n",
    "\n",
    "        # total loss\n",
    "        loss = recon_loss + kl_loss\n",
    "\n",
    "        # backward pass\n",
    "        loss.backward()\n",
    "        train_loss += loss.item()\n",
    "\n",
    "        # update the weights\n",
    "        optimizer.step()\n",
    "\n",
    "    return train_loss\n",
    "\n",
    "def test():\n",
    "    # set the evaluation mode\n",
    "    model.eval()\n",
    "\n",
    "    # test loss for the data\n",
    "    test_loss = 0\n",
    "\n",
    "    # we don't need to track the gradients, since we are not updating the parameters during evaluation / testing\n",
    "    with torch.no_grad():\n",
    "        for i, (x, _) in enumerate(test_iterator):\n",
    "            # reshape the data\n",
    "            x = x.view(-1, 28 * 28)\n",
    "            x = x.to(device)\n",
    "\n",
    "            # forward pass\n",
    "            x_sample, z_mu, z_var = model(x)\n",
    "\n",
    "            # reconstruction loss\n",
    "            recon_loss = F.binary_cross_entropy(x_sample, x, size_average=False)\n",
    "\n",
    "            # kl divergence loss\n",
    "            kl_loss = 0.5 * torch.sum(torch.exp(z_var) + z_mu**2 - 1.0 - z_var)\n",
    "\n",
    "            # total loss\n",
    "            loss = recon_loss + kl_loss\n",
    "            test_loss += loss.item()\n",
    "\n",
    "    return test_loss"
   ]
  },
  {
   "cell_type": "code",
   "execution_count": 12,
   "metadata": {},
   "outputs": [
    {
     "name": "stderr",
     "output_type": "stream",
     "text": [
      "/Users/luisserrano/anaconda3/lib/python3.7/site-packages/torch/nn/_reduction.py:42: UserWarning: size_average and reduce args will be deprecated, please use reduction='sum' instead.\n",
      "  warnings.warn(warning.format(ret))\n"
     ]
    },
    {
     "name": "stdout",
     "output_type": "stream",
     "text": [
      "Epoch 0, Train Loss: 3.02\n",
      "Epoch 100, Train Loss: 2.90\n",
      "Epoch 200, Train Loss: 2.72\n",
      "Epoch 300, Train Loss: 2.88\n",
      "Epoch 400, Train Loss: 2.13\n",
      "Epoch 500, Train Loss: 1.77\n",
      "Epoch 600, Train Loss: 0.89\n",
      "Epoch 700, Train Loss: 0.99\n",
      "Epoch 800, Train Loss: 1.06\n",
      "Epoch 900, Train Loss: 0.96\n",
      "Epoch 1000, Train Loss: 0.90\n",
      "Epoch 1100, Train Loss: 0.91\n",
      "Epoch 1200, Train Loss: 0.87\n",
      "Epoch 1300, Train Loss: 0.88\n",
      "Epoch 1400, Train Loss: 0.89\n",
      "Epoch 1500, Train Loss: 1.00\n",
      "Epoch 1600, Train Loss: 0.92\n",
      "Epoch 1700, Train Loss: 0.89\n",
      "Epoch 1800, Train Loss: 1.53\n",
      "Epoch 1900, Train Loss: 0.85\n",
      "Epoch 2000, Train Loss: 1.63\n",
      "Epoch 2100, Train Loss: 0.95\n",
      "Epoch 2200, Train Loss: 0.81\n",
      "Epoch 2300, Train Loss: 1.75\n",
      "Epoch 2400, Train Loss: 5.90\n",
      "Epoch 2500, Train Loss: 1.40\n",
      "Epoch 2600, Train Loss: 0.80\n",
      "Epoch 2700, Train Loss: 0.88\n",
      "Epoch 2800, Train Loss: 0.91\n",
      "Epoch 2900, Train Loss: 8.64\n",
      "Epoch 3000, Train Loss: 0.88\n",
      "Epoch 3100, Train Loss: 0.90\n",
      "Epoch 3200, Train Loss: 0.98\n",
      "Epoch 3300, Train Loss: 0.93\n",
      "Epoch 3400, Train Loss: 1.02\n",
      "Epoch 3500, Train Loss: 1.06\n",
      "Epoch 3600, Train Loss: 0.92\n",
      "Epoch 3700, Train Loss: 0.89\n",
      "Epoch 3800, Train Loss: 0.93\n",
      "Epoch 3900, Train Loss: 0.78\n",
      "Epoch 4000, Train Loss: 0.85\n",
      "Epoch 4100, Train Loss: 0.85\n",
      "Epoch 4200, Train Loss: 0.89\n",
      "Epoch 4300, Train Loss: 0.93\n",
      "Epoch 4400, Train Loss: 0.90\n",
      "Epoch 4500, Train Loss: 0.92\n",
      "Epoch 4600, Train Loss: 0.81\n",
      "Epoch 4700, Train Loss: 0.91\n",
      "Epoch 4800, Train Loss: 0.87\n",
      "Epoch 4900, Train Loss: 0.96\n",
      "Epoch 5000, Train Loss: 0.91\n",
      "Epoch 5100, Train Loss: 0.90\n",
      "Epoch 5200, Train Loss: 0.97\n",
      "Epoch 5300, Train Loss: 1.33\n",
      "Epoch 5400, Train Loss: 0.90\n",
      "Epoch 5500, Train Loss: 0.95\n",
      "Epoch 5600, Train Loss: 0.97\n",
      "Epoch 5700, Train Loss: 1.00\n",
      "Epoch 5800, Train Loss: 6.00\n",
      "Epoch 5900, Train Loss: 0.90\n",
      "Epoch 6000, Train Loss: 1.19\n",
      "Epoch 6100, Train Loss: 0.92\n",
      "Epoch 6200, Train Loss: 0.83\n",
      "Epoch 6300, Train Loss: 0.93\n",
      "Epoch 6400, Train Loss: 3.34\n",
      "Epoch 6500, Train Loss: 0.81\n",
      "Epoch 6600, Train Loss: 0.91\n",
      "Epoch 6700, Train Loss: 0.83\n",
      "Epoch 6800, Train Loss: 0.88\n",
      "Epoch 6900, Train Loss: 0.78\n",
      "Epoch 7000, Train Loss: 0.90\n",
      "Epoch 7100, Train Loss: 0.85\n",
      "Epoch 7200, Train Loss: 0.84\n",
      "Epoch 7300, Train Loss: 1.01\n",
      "Epoch 7400, Train Loss: 1.36\n",
      "Epoch 7500, Train Loss: 0.91\n",
      "Epoch 7600, Train Loss: 0.96\n",
      "Epoch 7700, Train Loss: 0.95\n",
      "Epoch 7800, Train Loss: 1.58\n",
      "Epoch 7900, Train Loss: 1.21\n",
      "Epoch 8000, Train Loss: 0.92\n",
      "Epoch 8100, Train Loss: 0.95\n",
      "Epoch 8200, Train Loss: 1.01\n",
      "Epoch 8300, Train Loss: 0.95\n",
      "Epoch 8400, Train Loss: 0.87\n",
      "Epoch 8500, Train Loss: 0.88\n",
      "Epoch 8600, Train Loss: 0.89\n",
      "Epoch 8700, Train Loss: 0.92\n",
      "Epoch 8800, Train Loss: 0.90\n",
      "Epoch 8900, Train Loss: 0.81\n",
      "Epoch 9000, Train Loss: 0.95\n",
      "Epoch 9100, Train Loss: 0.83\n",
      "Epoch 9200, Train Loss: 1.15\n",
      "Epoch 9300, Train Loss: 0.90\n",
      "Epoch 9400, Train Loss: 0.94\n",
      "Epoch 9500, Train Loss: 0.97\n",
      "Epoch 9600, Train Loss: 0.96\n",
      "Epoch 9700, Train Loss: 0.89\n",
      "Epoch 9800, Train Loss: 0.84\n",
      "Epoch 9900, Train Loss: 0.83\n"
     ]
    },
    {
     "data": {
      "text/plain": [
       "'\\n    if best_test_loss > test_loss:\\n        best_test_loss = test_loss\\n        patience_counter = 1\\n    else:\\n        patience_counter += 1\\n\\n    if patience_counter > 3:\\n        break\\n'"
      ]
     },
     "execution_count": 12,
     "metadata": {},
     "output_type": "execute_result"
    }
   ],
   "source": [
    "best_test_loss = float('inf')\n",
    "losses = []\n",
    "\n",
    "for e in range(N_EPOCHS):\n",
    "\n",
    "    train_loss = train()\n",
    "    #test_loss = test()\n",
    "\n",
    "    train_loss /= len(train_dataset)\n",
    "    #test_loss /= len(test_dataset)\n",
    "\n",
    "    losses.append(train_loss)\n",
    "    \n",
    "    if e % 100 == 0:\n",
    "        print(f'Epoch {e}, Train Loss: {train_loss:.2f}')\n",
    "\n",
    "'''\n",
    "    if best_test_loss > test_loss:\n",
    "        best_test_loss = test_loss\n",
    "        patience_counter = 1\n",
    "    else:\n",
    "        patience_counter += 1\n",
    "\n",
    "    if patience_counter > 3:\n",
    "        break\n",
    "'''"
   ]
  },
  {
   "cell_type": "code",
   "execution_count": 13,
   "metadata": {},
   "outputs": [
    {
     "data": {
      "text/plain": [
       "<matplotlib.legend.Legend at 0x7fafe38e2310>"
      ]
     },
     "execution_count": 13,
     "metadata": {},
     "output_type": "execute_result"
    },
    {
     "data": {
      "image/png": "[encoded data removed]",
      "text/plain": [
       "<Figure size 432x288 with 1 Axes>"
      ]
     },
     "metadata": {
      "needs_background": "light"
     },
     "output_type": "display_data"
    }
   ],
   "source": [
    "fig, ax = plt.subplots()\n",
    "losses = np.array(losses)\n",
    "plt.plot(losses[::1000], label='Loss')\n",
    "plt.title(\"Training Losses\")\n",
    "plt.legend()"
   ]
  },
  {
   "cell_type": "code",
   "execution_count": 14,
   "metadata": {
    "scrolled": true
   },
   "outputs": [
    {
     "data": {
      "image/png": "[encoded data removed]",
      "text/plain": [
       "<Figure size 360x360 with 16 Axes>"
      ]
     },
     "metadata": {
      "needs_background": "light"
     },
     "output_type": "display_data"
    }
   ],
   "source": [
    "# sample and generate images\n",
    "\n",
    "images = []\n",
    "for i in range(16):\n",
    "    z = torch.randn(1, LATENT_DIM).to(device)\n",
    "    reconstructed_img = model.dec(z)\n",
    "    img = reconstructed_img.view(m,n).data\n",
    "    images.append(img)\n",
    "    \n",
    "fig, axes = plt.subplots(figsize = (5,5), nrows=4, ncols=4, sharey=True, sharex=True)\n",
    "for ax, img in zip(axes.flatten(), images):\n",
    "    im = ax.imshow(img, cmap='gray')"
   ]
  },
  {
   "cell_type": "code",
   "execution_count": null,
   "metadata": {},
   "outputs": [],
   "source": []
  },
  {
   "cell_type": "code",
   "execution_count": null,
   "metadata": {},
   "outputs": [],
   "source": []
  }
 ],
 "metadata": {
  "kernelspec": {
   "display_name": "Python 3",
   "language": "python",
   "name": "python3"
  },
  "language_info": {
   "codemirror_mode": {
    "name": "ipython",
    "version": 3
   },
   "file_extension": ".py",
   "mimetype": "text/x-python",
   "name": "python",
   "nbconvert_exporter": "python",
   "pygments_lexer": "ipython3",
   "version": "3.7.6"
  }
 },
 "nbformat": 4,
 "nbformat_minor": 4
}
